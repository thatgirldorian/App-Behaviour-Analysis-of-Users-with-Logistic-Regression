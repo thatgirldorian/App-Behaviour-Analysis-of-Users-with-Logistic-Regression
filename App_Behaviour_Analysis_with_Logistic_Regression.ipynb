{
  "nbformat": 4,
  "nbformat_minor": 0,
  "metadata": {
    "colab": {
      "name": "App Behaviour Analysis with Logistic Regression.ipynb",
      "version": "0.3.2",
      "provenance": [],
      "include_colab_link": true
    },
    "kernelspec": {
      "name": "python3",
      "display_name": "Python 3"
    }
  },
  "cells": [
    {
      "cell_type": "markdown",
      "metadata": {
        "id": "view-in-github",
        "colab_type": "text"
      },
      "source": [
        "<a href=\"https://colab.research.google.com/github/thatgirldorian/Project-1/blob/master/App_Behaviour_Analysis_with_Logistic_Regression.ipynb\" target=\"_parent\"><img src=\"https://colab.research.google.com/assets/colab-badge.svg\" alt=\"Open In Colab\"/></a>"
      ]
    },
    {
      "cell_type": "markdown",
      "metadata": {
        "id": "Fhlfni5pPoWt",
        "colab_type": "text"
      },
      "source": [
        "**App Behaviour Analysis with Logistic Regression : An Exploratory Data Analysis**"
      ]
    },
    {
      "cell_type": "markdown",
      "metadata": {
        "id": "NltikgArRdEl",
        "colab_type": "text"
      },
      "source": [
        "These days, almost every company has a mobile app. Many companies provide a free trial so customers can get a feel of their products and hopefully move on to a paid memebership. Netflix, Audible and Youtube Red are a few examples. \n",
        "\n",
        "These companies also need to know who to target and which ads to show you as you scroll through your Facebook feed.\n",
        "\n",
        "In this project, I'll be building a model that will predict which users will not subscribe to paid membership so we can launch more marketing products to convert them into paid users. "
      ]
    },
    {
      "cell_type": "markdown",
      "metadata": {
        "id": "2zbV36u6SvIq",
        "colab_type": "text"
      },
      "source": [
        "**Business Challenge**\n",
        "\n",
        "This project is for a finTech company, TrackIt, that has a paid app which allows its users track all their finances in one place. To attract customers, TrackIt has a free version of the app with some unlocked features.\n",
        "\n",
        "My job is to find out which users will most likely not subscribe to paid content, so we can give them additional offers or market to them differently. This is important because these offers cost money and we would rather not market to users who were going to pay anyways."
      ]
    },
    {
      "cell_type": "markdown",
      "metadata": {
        "id": "xMasGBOvUI-y",
        "colab_type": "text"
      },
      "source": [
        "**The Data We Have**\n",
        "\n",
        "The data we will be working with includes the:\n",
        "* user id\n",
        "* date and time the user first opened the app\n",
        "* age of the user\n",
        "* mini game played and more\n"
      ]
    },
    {
      "cell_type": "markdown",
      "metadata": {
        "id": "6wBY5TKAU9wJ",
        "colab_type": "text"
      },
      "source": [
        "**Exploring the data**"
      ]
    },
    {
      "cell_type": "code",
      "metadata": {
        "id": "dE5KBmvJUDre",
        "colab_type": "code",
        "colab": {}
      },
      "source": [
        "#Importing needed libraries\n",
        "\n",
        "import pandas as pd\n",
        "from dateutil import parser\n",
        "import matplotlib.pyplot as plt\n",
        "import numpy as np\n",
        "import seaborn as sn"
      ],
      "execution_count": 0,
      "outputs": []
    },
    {
      "cell_type": "code",
      "metadata": {
        "id": "y4ofEOEUVf8g",
        "colab_type": "code",
        "colab": {}
      },
      "source": [
        "dataset = pd.read_csv('appdata10.csv')"
      ],
      "execution_count": 0,
      "outputs": []
    },
    {
      "cell_type": "markdown",
      "metadata": {
        "id": "0oTB-FMyV1mx",
        "colab_type": "text"
      },
      "source": [
        "**Data Pre-Processing**"
      ]
    },
    {
      "cell_type": "code",
      "metadata": {
        "id": "2Et60Tz7X76c",
        "colab_type": "code",
        "outputId": "40b20bd5-c361-4b86-882b-ad0af1fca054",
        "colab": {
          "base_uri": "https://localhost:8080/",
          "height": 549
        }
      },
      "source": [
        "#Viewing the Data\n",
        "dataset.head(10)"
      ],
      "execution_count": 0,
      "outputs": [
        {
          "output_type": "execute_result",
          "data": {
            "text/html": [
              "<div>\n",
              "<style scoped>\n",
              "    .dataframe tbody tr th:only-of-type {\n",
              "        vertical-align: middle;\n",
              "    }\n",
              "\n",
              "    .dataframe tbody tr th {\n",
              "        vertical-align: top;\n",
              "    }\n",
              "\n",
              "    .dataframe thead th {\n",
              "        text-align: right;\n",
              "    }\n",
              "</style>\n",
              "<table border=\"1\" class=\"dataframe\">\n",
              "  <thead>\n",
              "    <tr style=\"text-align: right;\">\n",
              "      <th></th>\n",
              "      <th>user</th>\n",
              "      <th>first_open</th>\n",
              "      <th>dayofweek</th>\n",
              "      <th>hour</th>\n",
              "      <th>age</th>\n",
              "      <th>screen_list</th>\n",
              "      <th>numscreens</th>\n",
              "      <th>minigame</th>\n",
              "      <th>used_premium_feature</th>\n",
              "      <th>enrolled</th>\n",
              "      <th>enrolled_date</th>\n",
              "      <th>liked</th>\n",
              "    </tr>\n",
              "  </thead>\n",
              "  <tbody>\n",
              "    <tr>\n",
              "      <th>0</th>\n",
              "      <td>235136</td>\n",
              "      <td>2012-12-27 02:14:51.273</td>\n",
              "      <td>3</td>\n",
              "      <td>02:00:00</td>\n",
              "      <td>23</td>\n",
              "      <td>idscreen,joinscreen,Cycle,product_review,ScanP...</td>\n",
              "      <td>15</td>\n",
              "      <td>0</td>\n",
              "      <td>0</td>\n",
              "      <td>0</td>\n",
              "      <td>NaN</td>\n",
              "      <td>0</td>\n",
              "    </tr>\n",
              "    <tr>\n",
              "      <th>1</th>\n",
              "      <td>333588</td>\n",
              "      <td>2012-12-02 01:16:00.905</td>\n",
              "      <td>6</td>\n",
              "      <td>01:00:00</td>\n",
              "      <td>24</td>\n",
              "      <td>joinscreen,product_review,product_review2,Scan...</td>\n",
              "      <td>13</td>\n",
              "      <td>0</td>\n",
              "      <td>0</td>\n",
              "      <td>0</td>\n",
              "      <td>NaN</td>\n",
              "      <td>0</td>\n",
              "    </tr>\n",
              "    <tr>\n",
              "      <th>2</th>\n",
              "      <td>254414</td>\n",
              "      <td>2013-03-19 19:19:09.157</td>\n",
              "      <td>1</td>\n",
              "      <td>19:00:00</td>\n",
              "      <td>23</td>\n",
              "      <td>Splash,Cycle,Loan</td>\n",
              "      <td>3</td>\n",
              "      <td>0</td>\n",
              "      <td>1</td>\n",
              "      <td>0</td>\n",
              "      <td>NaN</td>\n",
              "      <td>1</td>\n",
              "    </tr>\n",
              "    <tr>\n",
              "      <th>3</th>\n",
              "      <td>234192</td>\n",
              "      <td>2013-07-05 16:08:46.354</td>\n",
              "      <td>4</td>\n",
              "      <td>16:00:00</td>\n",
              "      <td>28</td>\n",
              "      <td>product_review,Home,product_review,Loan3,Finan...</td>\n",
              "      <td>40</td>\n",
              "      <td>0</td>\n",
              "      <td>0</td>\n",
              "      <td>1</td>\n",
              "      <td>2013-07-05 16:11:49.513</td>\n",
              "      <td>0</td>\n",
              "    </tr>\n",
              "    <tr>\n",
              "      <th>4</th>\n",
              "      <td>51549</td>\n",
              "      <td>2013-02-26 18:50:48.661</td>\n",
              "      <td>1</td>\n",
              "      <td>18:00:00</td>\n",
              "      <td>31</td>\n",
              "      <td>idscreen,joinscreen,Cycle,Credit3Container,Sca...</td>\n",
              "      <td>32</td>\n",
              "      <td>0</td>\n",
              "      <td>0</td>\n",
              "      <td>1</td>\n",
              "      <td>2013-02-26 18:56:37.841</td>\n",
              "      <td>1</td>\n",
              "    </tr>\n",
              "    <tr>\n",
              "      <th>5</th>\n",
              "      <td>56480</td>\n",
              "      <td>2013-04-03 09:58:15.752</td>\n",
              "      <td>2</td>\n",
              "      <td>09:00:00</td>\n",
              "      <td>20</td>\n",
              "      <td>idscreen,Cycle,Home,ScanPreview,VerifyPhone,Ve...</td>\n",
              "      <td>14</td>\n",
              "      <td>0</td>\n",
              "      <td>0</td>\n",
              "      <td>1</td>\n",
              "      <td>2013-04-03 09:59:03.291</td>\n",
              "      <td>0</td>\n",
              "    </tr>\n",
              "    <tr>\n",
              "      <th>6</th>\n",
              "      <td>144649</td>\n",
              "      <td>2012-12-25 02:33:18.461</td>\n",
              "      <td>1</td>\n",
              "      <td>02:00:00</td>\n",
              "      <td>35</td>\n",
              "      <td>product_review,product_review2,ScanPreview</td>\n",
              "      <td>3</td>\n",
              "      <td>0</td>\n",
              "      <td>0</td>\n",
              "      <td>0</td>\n",
              "      <td>NaN</td>\n",
              "      <td>0</td>\n",
              "    </tr>\n",
              "    <tr>\n",
              "      <th>7</th>\n",
              "      <td>249366</td>\n",
              "      <td>2012-12-11 03:07:49.875</td>\n",
              "      <td>1</td>\n",
              "      <td>03:00:00</td>\n",
              "      <td>26</td>\n",
              "      <td>Splash,Cycle,Home,Credit3Container,Credit3Dash...</td>\n",
              "      <td>41</td>\n",
              "      <td>0</td>\n",
              "      <td>1</td>\n",
              "      <td>0</td>\n",
              "      <td>NaN</td>\n",
              "      <td>0</td>\n",
              "    </tr>\n",
              "    <tr>\n",
              "      <th>8</th>\n",
              "      <td>372004</td>\n",
              "      <td>2013-03-20 14:22:01.569</td>\n",
              "      <td>2</td>\n",
              "      <td>14:00:00</td>\n",
              "      <td>29</td>\n",
              "      <td>product_review,product_review2,ScanPreview,Ver...</td>\n",
              "      <td>33</td>\n",
              "      <td>1</td>\n",
              "      <td>1</td>\n",
              "      <td>1</td>\n",
              "      <td>2013-04-27 22:24:54.542</td>\n",
              "      <td>0</td>\n",
              "    </tr>\n",
              "    <tr>\n",
              "      <th>9</th>\n",
              "      <td>338013</td>\n",
              "      <td>2013-04-26 18:22:16.013</td>\n",
              "      <td>4</td>\n",
              "      <td>18:00:00</td>\n",
              "      <td>26</td>\n",
              "      <td>Home,Loan2,product_review,product_review,produ...</td>\n",
              "      <td>19</td>\n",
              "      <td>0</td>\n",
              "      <td>0</td>\n",
              "      <td>1</td>\n",
              "      <td>2013-04-26 18:31:58.923</td>\n",
              "      <td>0</td>\n",
              "    </tr>\n",
              "  </tbody>\n",
              "</table>\n",
              "</div>"
            ],
            "text/plain": [
              "     user               first_open  ...            enrolled_date liked\n",
              "0  235136  2012-12-27 02:14:51.273  ...                      NaN     0\n",
              "1  333588  2012-12-02 01:16:00.905  ...                      NaN     0\n",
              "2  254414  2013-03-19 19:19:09.157  ...                      NaN     1\n",
              "3  234192  2013-07-05 16:08:46.354  ...  2013-07-05 16:11:49.513     0\n",
              "4   51549  2013-02-26 18:50:48.661  ...  2013-02-26 18:56:37.841     1\n",
              "5   56480  2013-04-03 09:58:15.752  ...  2013-04-03 09:59:03.291     0\n",
              "6  144649  2012-12-25 02:33:18.461  ...                      NaN     0\n",
              "7  249366  2012-12-11 03:07:49.875  ...                      NaN     0\n",
              "8  372004  2013-03-20 14:22:01.569  ...  2013-04-27 22:24:54.542     0\n",
              "9  338013  2013-04-26 18:22:16.013  ...  2013-04-26 18:31:58.923     0\n",
              "\n",
              "[10 rows x 12 columns]"
            ]
          },
          "metadata": {
            "tags": []
          },
          "execution_count": 11
        }
      ]
    },
    {
      "cell_type": "code",
      "metadata": {
        "id": "waFY7SagYS61",
        "colab_type": "code",
        "outputId": "7d8b9869-ac60-4743-ff3c-9f7f9fc29917",
        "colab": {
          "base_uri": "https://localhost:8080/",
          "height": 317
        }
      },
      "source": [
        "#Distribution of Numerical Variables\n",
        "dataset.describe()"
      ],
      "execution_count": 0,
      "outputs": [
        {
          "output_type": "execute_result",
          "data": {
            "text/html": [
              "<div>\n",
              "<style scoped>\n",
              "    .dataframe tbody tr th:only-of-type {\n",
              "        vertical-align: middle;\n",
              "    }\n",
              "\n",
              "    .dataframe tbody tr th {\n",
              "        vertical-align: top;\n",
              "    }\n",
              "\n",
              "    .dataframe thead th {\n",
              "        text-align: right;\n",
              "    }\n",
              "</style>\n",
              "<table border=\"1\" class=\"dataframe\">\n",
              "  <thead>\n",
              "    <tr style=\"text-align: right;\">\n",
              "      <th></th>\n",
              "      <th>user</th>\n",
              "      <th>dayofweek</th>\n",
              "      <th>age</th>\n",
              "      <th>numscreens</th>\n",
              "      <th>minigame</th>\n",
              "      <th>used_premium_feature</th>\n",
              "      <th>enrolled</th>\n",
              "      <th>liked</th>\n",
              "    </tr>\n",
              "  </thead>\n",
              "  <tbody>\n",
              "    <tr>\n",
              "      <th>count</th>\n",
              "      <td>50000.000000</td>\n",
              "      <td>50000.000000</td>\n",
              "      <td>50000.00000</td>\n",
              "      <td>50000.000000</td>\n",
              "      <td>50000.000000</td>\n",
              "      <td>50000.000000</td>\n",
              "      <td>50000.000000</td>\n",
              "      <td>50000.000000</td>\n",
              "    </tr>\n",
              "    <tr>\n",
              "      <th>mean</th>\n",
              "      <td>186889.729900</td>\n",
              "      <td>3.029860</td>\n",
              "      <td>31.72436</td>\n",
              "      <td>21.095900</td>\n",
              "      <td>0.107820</td>\n",
              "      <td>0.172020</td>\n",
              "      <td>0.621480</td>\n",
              "      <td>0.165000</td>\n",
              "    </tr>\n",
              "    <tr>\n",
              "      <th>std</th>\n",
              "      <td>107768.520361</td>\n",
              "      <td>2.031997</td>\n",
              "      <td>10.80331</td>\n",
              "      <td>15.728812</td>\n",
              "      <td>0.310156</td>\n",
              "      <td>0.377402</td>\n",
              "      <td>0.485023</td>\n",
              "      <td>0.371184</td>\n",
              "    </tr>\n",
              "    <tr>\n",
              "      <th>min</th>\n",
              "      <td>13.000000</td>\n",
              "      <td>0.000000</td>\n",
              "      <td>16.00000</td>\n",
              "      <td>1.000000</td>\n",
              "      <td>0.000000</td>\n",
              "      <td>0.000000</td>\n",
              "      <td>0.000000</td>\n",
              "      <td>0.000000</td>\n",
              "    </tr>\n",
              "    <tr>\n",
              "      <th>25%</th>\n",
              "      <td>93526.750000</td>\n",
              "      <td>1.000000</td>\n",
              "      <td>24.00000</td>\n",
              "      <td>10.000000</td>\n",
              "      <td>0.000000</td>\n",
              "      <td>0.000000</td>\n",
              "      <td>0.000000</td>\n",
              "      <td>0.000000</td>\n",
              "    </tr>\n",
              "    <tr>\n",
              "      <th>50%</th>\n",
              "      <td>187193.500000</td>\n",
              "      <td>3.000000</td>\n",
              "      <td>29.00000</td>\n",
              "      <td>18.000000</td>\n",
              "      <td>0.000000</td>\n",
              "      <td>0.000000</td>\n",
              "      <td>1.000000</td>\n",
              "      <td>0.000000</td>\n",
              "    </tr>\n",
              "    <tr>\n",
              "      <th>75%</th>\n",
              "      <td>279984.250000</td>\n",
              "      <td>5.000000</td>\n",
              "      <td>37.00000</td>\n",
              "      <td>28.000000</td>\n",
              "      <td>0.000000</td>\n",
              "      <td>0.000000</td>\n",
              "      <td>1.000000</td>\n",
              "      <td>0.000000</td>\n",
              "    </tr>\n",
              "    <tr>\n",
              "      <th>max</th>\n",
              "      <td>373662.000000</td>\n",
              "      <td>6.000000</td>\n",
              "      <td>101.00000</td>\n",
              "      <td>325.000000</td>\n",
              "      <td>1.000000</td>\n",
              "      <td>1.000000</td>\n",
              "      <td>1.000000</td>\n",
              "      <td>1.000000</td>\n",
              "    </tr>\n",
              "  </tbody>\n",
              "</table>\n",
              "</div>"
            ],
            "text/plain": [
              "                user     dayofweek  ...      enrolled         liked\n",
              "count   50000.000000  50000.000000  ...  50000.000000  50000.000000\n",
              "mean   186889.729900      3.029860  ...      0.621480      0.165000\n",
              "std    107768.520361      2.031997  ...      0.485023      0.371184\n",
              "min        13.000000      0.000000  ...      0.000000      0.000000\n",
              "25%     93526.750000      1.000000  ...      0.000000      0.000000\n",
              "50%    187193.500000      3.000000  ...      1.000000      0.000000\n",
              "75%    279984.250000      5.000000  ...      1.000000      0.000000\n",
              "max    373662.000000      6.000000  ...      1.000000      1.000000\n",
              "\n",
              "[8 rows x 8 columns]"
            ]
          },
          "metadata": {
            "tags": []
          },
          "execution_count": 12
        }
      ]
    },
    {
      "cell_type": "code",
      "metadata": {
        "id": "cHW6-QyzYd5p",
        "colab_type": "code",
        "colab": {}
      },
      "source": [
        "#First set of Feature cleaning\n",
        "dataset['hour'] = dataset.hour.str.slice(1, 3).astype(int)"
      ],
      "execution_count": 0,
      "outputs": []
    },
    {
      "cell_type": "code",
      "metadata": {
        "id": "Xval5b_eYuFa",
        "colab_type": "code",
        "outputId": "46ca3e6b-6af9-485c-9d32-b44e462d262b",
        "colab": {
          "base_uri": "https://localhost:8080/",
          "height": 204
        }
      },
      "source": [
        "#Plotting\n",
        "dataset2 = dataset.copy().drop(columns = ['user', 'screen_list', 'enrolled_date', 'first_open', 'enrolled'])\n",
        "dataset2.head()"
      ],
      "execution_count": 0,
      "outputs": [
        {
          "output_type": "execute_result",
          "data": {
            "text/html": [
              "<div>\n",
              "<style scoped>\n",
              "    .dataframe tbody tr th:only-of-type {\n",
              "        vertical-align: middle;\n",
              "    }\n",
              "\n",
              "    .dataframe tbody tr th {\n",
              "        vertical-align: top;\n",
              "    }\n",
              "\n",
              "    .dataframe thead th {\n",
              "        text-align: right;\n",
              "    }\n",
              "</style>\n",
              "<table border=\"1\" class=\"dataframe\">\n",
              "  <thead>\n",
              "    <tr style=\"text-align: right;\">\n",
              "      <th></th>\n",
              "      <th>dayofweek</th>\n",
              "      <th>hour</th>\n",
              "      <th>age</th>\n",
              "      <th>numscreens</th>\n",
              "      <th>minigame</th>\n",
              "      <th>used_premium_feature</th>\n",
              "      <th>liked</th>\n",
              "    </tr>\n",
              "  </thead>\n",
              "  <tbody>\n",
              "    <tr>\n",
              "      <th>0</th>\n",
              "      <td>3</td>\n",
              "      <td>2</td>\n",
              "      <td>23</td>\n",
              "      <td>15</td>\n",
              "      <td>0</td>\n",
              "      <td>0</td>\n",
              "      <td>0</td>\n",
              "    </tr>\n",
              "    <tr>\n",
              "      <th>1</th>\n",
              "      <td>6</td>\n",
              "      <td>1</td>\n",
              "      <td>24</td>\n",
              "      <td>13</td>\n",
              "      <td>0</td>\n",
              "      <td>0</td>\n",
              "      <td>0</td>\n",
              "    </tr>\n",
              "    <tr>\n",
              "      <th>2</th>\n",
              "      <td>1</td>\n",
              "      <td>19</td>\n",
              "      <td>23</td>\n",
              "      <td>3</td>\n",
              "      <td>0</td>\n",
              "      <td>1</td>\n",
              "      <td>1</td>\n",
              "    </tr>\n",
              "    <tr>\n",
              "      <th>3</th>\n",
              "      <td>4</td>\n",
              "      <td>16</td>\n",
              "      <td>28</td>\n",
              "      <td>40</td>\n",
              "      <td>0</td>\n",
              "      <td>0</td>\n",
              "      <td>0</td>\n",
              "    </tr>\n",
              "    <tr>\n",
              "      <th>4</th>\n",
              "      <td>1</td>\n",
              "      <td>18</td>\n",
              "      <td>31</td>\n",
              "      <td>32</td>\n",
              "      <td>0</td>\n",
              "      <td>0</td>\n",
              "      <td>1</td>\n",
              "    </tr>\n",
              "  </tbody>\n",
              "</table>\n",
              "</div>"
            ],
            "text/plain": [
              "   dayofweek  hour  age  numscreens  minigame  used_premium_feature  liked\n",
              "0          3     2   23          15         0                     0      0\n",
              "1          6     1   24          13         0                     0      0\n",
              "2          1    19   23           3         0                     1      1\n",
              "3          4    16   28          40         0                     0      0\n",
              "4          1    18   31          32         0                     0      1"
            ]
          },
          "metadata": {
            "tags": []
          },
          "execution_count": 18
        }
      ]
    },
    {
      "cell_type": "code",
      "metadata": {
        "id": "FHxkA7d-abXs",
        "colab_type": "code",
        "outputId": "f98227ac-5dc7-41b0-8cce-6fa7d6532509",
        "colab": {
          "base_uri": "https://localhost:8080/",
          "height": 294
        }
      },
      "source": [
        "# Histograms\n",
        "plt.suptitle('Histograms of Numerical Columns', fontsize=20)\n",
        "for i in range(1, dataset2.shape[1] + 1):\n",
        "    plt.subplot(3, 3, i)\n",
        "    f = plt.gca()\n",
        "#    f.axes.get_yaxis().set_visible(False)\n",
        "    f.set_title(dataset2.columns.values[i - 1])\n",
        "    vals = np.size(dataset2.iloc[:, i - 1].unique())\n",
        "    \n",
        "    plt.hist(dataset2.iloc[:, i - 1], bins=vals, color='#3F5D7D')\n",
        "plt.tight_layout(rect=[0, 0.03, 1, 0.95])\n",
        "#plt.savefig('app_data_hist.jpg')"
      ],
      "execution_count": 0,
      "outputs": [
        {
          "output_type": "display_data",
          "data": {
            "image/png": "[encoded data removed]",
            "text/plain": [
              "<Figure size 432x288 with 7 Axes>"
            ]
          },
          "metadata": {
            "tags": []
          }
        }
      ]
    },
    {
      "cell_type": "code",
      "metadata": {
        "id": "-RK6c6MGVoA2",
        "colab_type": "code",
        "outputId": "59e2de39-113c-4362-a64c-0deb7878907c",
        "colab": {
          "base_uri": "https://localhost:8080/",
          "height": 769
        }
      },
      "source": [
        "# Correlation with Response Variable\n",
        "dataset2.corrwith(dataset.enrolled).plot.bar(figsize=(20,10),\n",
        "                  title = 'Correlation with Reposnse variable',\n",
        "                  fontsize = 15, rot = 45,\n",
        "                  grid = True)"
      ],
      "execution_count": 0,
      "outputs": [
        {
          "output_type": "execute_result",
          "data": {
            "text/plain": [
              "<matplotlib.axes._subplots.AxesSubplot at 0x7f587534cba8>"
            ]
          },
          "metadata": {
            "tags": []
          },
          "execution_count": 20
        },
        {
          "output_type": "display_data",
          "data": {
            "image/png": "[encoded data removed]",
            "text/plain": [
              "<Figure size 1440x720 with 1 Axes>"
            ]
          },
          "metadata": {
            "tags": []
          }
        }
      ]
    },
    {
      "cell_type": "code",
      "metadata": {
        "id": "wVakZ4y0ayWm",
        "colab_type": "code",
        "colab": {}
      },
      "source": [
        "#Correlation Matrix\n",
        "sn.set(style=\"white\", font_scale=2)\n",
        "#Computing the correlation matrix\n",
        "corr = dataset2.corr()\n"
      ],
      "execution_count": 0,
      "outputs": []
    },
    {
      "cell_type": "code",
      "metadata": {
        "id": "fLxoB9sUapud",
        "colab_type": "code",
        "colab": {}
      },
      "source": [
        "#Generating a mask for the upper triangle\n",
        "mask = np.zeros_like(corr, dtype=np.bool)\n",
        "mask[np.triu_indices_from(mask)] = True"
      ],
      "execution_count": 0,
      "outputs": []
    },
    {
      "cell_type": "code",
      "metadata": {
        "id": "UGqGQwgza7YJ",
        "colab_type": "code",
        "outputId": "5b142ff0-5e24-44f1-845d-d9adb4183229",
        "colab": {
          "base_uri": "https://localhost:8080/",
          "height": 1000
        }
      },
      "source": [
        "# Set up the matplotlib figure\n",
        "f, ax = plt.subplots(figsize=(18, 15))\n",
        "f.suptitle(\"Correlation Matrix\", fontsize = 40)"
      ],
      "execution_count": 0,
      "outputs": [
        {
          "output_type": "execute_result",
          "data": {
            "text/plain": [
              "Text(0.5, 0.98, 'Correlation Matrix')"
            ]
          },
          "metadata": {
            "tags": []
          },
          "execution_count": 25
        },
        {
          "output_type": "display_data",
          "data": {
            "image/png": "[encoded data removed]",
            "text/plain": [
              "<Figure size 1296x1080 with 1 Axes>"
            ]
          },
          "metadata": {
            "tags": []
          }
        }
      ]
    },
    {
      "cell_type": "code",
      "metadata": {
        "id": "9pdUin6Pau2G",
        "colab_type": "code",
        "outputId": "f283076c-d557-46a5-e8c5-3733953454a9",
        "colab": {
          "base_uri": "https://localhost:8080/",
          "height": 535
        }
      },
      "source": [
        " #Generate a custom diverging colormap\n",
        "cmap = sn.diverging_palette(220, 10, as_cmap=True)\n",
        "# Draw the heatmap with the mask and correct aspect ratio\n",
        "sn.heatmap(corr, mask=mask, cmap=cmap, vmax=.3, center=0,\n",
        "            square=True, linewidths=.5, cbar_kws={\"shrink\": .5})\n"
      ],
      "execution_count": 0,
      "outputs": [
        {
          "output_type": "execute_result",
          "data": {
            "text/plain": [
              "<matplotlib.axes._subplots.AxesSubplot at 0x7f58756f8898>"
            ]
          },
          "metadata": {
            "tags": []
          },
          "execution_count": 26
        },
        {
          "output_type": "display_data",
          "data": {
            "image/png": "[encoded data removed]",
            "text/plain": [
              "<Figure size 432x288 with 2 Axes>"
            ]
          },
          "metadata": {
            "tags": []
          }
        }
      ]
    },
    {
      "cell_type": "markdown",
      "metadata": {
        "id": "MbJmYAdDaGsO",
        "colab_type": "text"
      },
      "source": [
        "**Feature Engineering**"
      ]
    },
    {
      "cell_type": "code",
      "metadata": {
        "id": "inpXlXL0aEeG",
        "colab_type": "code",
        "colab": {}
      },
      "source": [
        "#Formatting Date Columns\n",
        "dataset.dtypes\n",
        "dataset[\"first_open\"] = [parser.parse(row_date) for row_date in dataset[\"first_open\"]]\n",
        "dataset[\"enrolled_date\"] = [parser.parse(row_date) if isinstance(row_date, str) else row_date for row_date in dataset[\"enrolled_date\"]]\n",
        "dataset.dtypes\n"
      ],
      "execution_count": 0,
      "outputs": []
    },
    {
      "cell_type": "code",
      "metadata": {
        "id": "wo6BnhU-9m6r",
        "colab_type": "code",
        "colab": {}
      },
      "source": [
        ""
      ],
      "execution_count": 0,
      "outputs": []
    }
  ]
}